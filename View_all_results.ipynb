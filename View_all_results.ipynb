{
 "cells": [
  {
   "cell_type": "markdown",
   "metadata": {
    "toc": true
   },
   "source": [
    "<h1>Table of Contents<span class=\"tocSkip\"></span></h1>\n",
    "<div class=\"toc\"><ul class=\"toc-item\"><li><span><a href=\"#Load-data\" data-toc-modified-id=\"Load-data-1\"><span class=\"toc-item-num\">1&nbsp;&nbsp;</span>Load data</a></span></li><li><span><a href=\"#Standard-settings\" data-toc-modified-id=\"Standard-settings-2\"><span class=\"toc-item-num\">2&nbsp;&nbsp;</span>Standard settings</a></span><ul class=\"toc-item\"><li><span><a href=\"#Movielens---HR\" data-toc-modified-id=\"Movielens---HR-2.1\"><span class=\"toc-item-num\">2.1&nbsp;&nbsp;</span>Movielens - HR</a></span></li><li><span><a href=\"#Movielens---MRR\" data-toc-modified-id=\"Movielens---MRR-2.2\"><span class=\"toc-item-num\">2.2&nbsp;&nbsp;</span>Movielens - MRR</a></span></li><li><span><a href=\"#BookCrossing---HR\" data-toc-modified-id=\"BookCrossing---HR-2.3\"><span class=\"toc-item-num\">2.3&nbsp;&nbsp;</span>BookCrossing - HR</a></span></li><li><span><a href=\"#BookCrossing---MRR\" data-toc-modified-id=\"BookCrossing---MRR-2.4\"><span class=\"toc-item-num\">2.4&nbsp;&nbsp;</span>BookCrossing - MRR</a></span></li></ul></li><li><span><a href=\"#Cold-start-settings\" data-toc-modified-id=\"Cold-start-settings-3\"><span class=\"toc-item-num\">3&nbsp;&nbsp;</span>Cold-start settings</a></span><ul class=\"toc-item\"><li><span><a href=\"#Movielens---HR\" data-toc-modified-id=\"Movielens---HR-3.1\"><span class=\"toc-item-num\">3.1&nbsp;&nbsp;</span>Movielens - HR</a></span></li><li><span><a href=\"#Movielens---MRR\" data-toc-modified-id=\"Movielens---MRR-3.2\"><span class=\"toc-item-num\">3.2&nbsp;&nbsp;</span>Movielens - MRR</a></span></li><li><span><a href=\"#BookCrossing---HR\" data-toc-modified-id=\"BookCrossing---HR-3.3\"><span class=\"toc-item-num\">3.3&nbsp;&nbsp;</span>BookCrossing - HR</a></span></li><li><span><a href=\"#BookCrossing---MRR\" data-toc-modified-id=\"BookCrossing---MRR-3.4\"><span class=\"toc-item-num\">3.4&nbsp;&nbsp;</span>BookCrossing - MRR</a></span></li></ul></li><li><span><a href=\"#Combined\" data-toc-modified-id=\"Combined-4\"><span class=\"toc-item-num\">4&nbsp;&nbsp;</span>Combined</a></span></li></ul></div>"
   ]
  },
  {
   "cell_type": "code",
   "execution_count": null,
   "metadata": {
    "code_folding": [
     0
    ]
   },
   "outputs": [],
   "source": [
    "# imports\n",
    "from collections import defaultdict\n",
    "from collections import OrderedDict\n",
    "\n",
    "import pandas as pd\n",
    "import numpy as np\n",
    "\n",
    "import matplotlib as mpl\n",
    "import matplotlib.pyplot as plt\n",
    "import matplotlib.patches as mpatches\n",
    "import matplotlib.lines as mlines\n",
    "\n",
    "from polara.evaluation.evaluation_engine import sample_ci\n",
    "\n",
    "from utils import read_cv_data\n",
    "\n",
    "%matplotlib inline\n",
    "%config InlineBackend.figure_format = 'retina'"
   ]
  },
  {
   "cell_type": "code",
   "execution_count": null,
   "metadata": {
    "code_folding": [
     0
    ]
   },
   "outputs": [],
   "source": [
    "params = {'text.usetex': False,\n",
    "         'legend.fontsize': 'x-large',\n",
    "          #'figure.figsize': (15, 5),\n",
    "         'axes.labelsize': 'x-large',\n",
    "         'axes.titlesize':'x-large',\n",
    "         'xtick.labelsize':'x-large',\n",
    "         'ytick.labelsize':'x-large',\n",
    "         }\n",
    "plt.style.use(['default']) # see plt.style.available\n",
    "plt.rcParams.update(params)"
   ]
  },
  {
   "cell_type": "markdown",
   "metadata": {},
   "source": [
    "# Load data"
   ]
  },
  {
   "cell_type": "code",
   "execution_count": null,
   "metadata": {},
   "outputs": [],
   "source": [
    "data_labels = ['ML1M', 'ML10M', 'BX', 'AMZe', 'AMZvg', 'YaMus']"
   ]
  },
  {
   "cell_type": "markdown",
   "metadata": {},
   "source": [
    "## standard"
   ]
  },
  {
   "cell_type": "code",
   "execution_count": null,
   "metadata": {},
   "outputs": [],
   "source": [
    "baselines = {lbl: read_cv_data('baseline', lbl) for lbl in data_labels}"
   ]
  },
  {
   "cell_type": "code",
   "execution_count": null,
   "metadata": {},
   "outputs": [],
   "source": [
    "scaledsvd = {lbl: read_cv_data('scaledsvd', lbl) for lbl in data_labels}"
   ]
  },
  {
   "cell_type": "code",
   "execution_count": null,
   "metadata": {},
   "outputs": [],
   "source": [
    "fm = {lbl: read_cv_data('fm', lbl) for lbl in data_labels if lbl!='YaMus'} # were unable to get anything meaningful for Yahoo data"
   ]
  },
  {
   "cell_type": "code",
   "execution_count": null,
   "metadata": {},
   "outputs": [],
   "source": [
    "mf = {lbl: read_cv_data('sgd', lbl) for lbl in data_labels}"
   ]
  },
  {
   "cell_type": "code",
   "execution_count": null,
   "metadata": {},
   "outputs": [],
   "source": [
    "lce = {lbl: read_cv_data('lce', lbl) for lbl in data_labels}"
   ]
  },
  {
   "cell_type": "code",
   "execution_count": null,
   "metadata": {},
   "outputs": [],
   "source": [
    "hybridsvd = {lbl: read_cv_data('hybridsvd', lbl) for lbl in data_labels}"
   ]
  },
  {
   "cell_type": "code",
   "execution_count": null,
   "metadata": {},
   "outputs": [],
   "source": [
    "scaledhybridsvd = {lbl: read_cv_data('scaledhybridsvd', lbl) for lbl in data_labels}"
   ]
  },
  {
   "cell_type": "code",
   "execution_count": null,
   "metadata": {},
   "outputs": [],
   "source": [
    "all_standard = [baselines, scaledsvd, mf, fm, lce, hybridsvd, scaledhybridsvd]"
   ]
  },
  {
   "cell_type": "markdown",
   "metadata": {},
   "source": [
    "## cold-start"
   ]
  },
  {
   "cell_type": "code",
   "execution_count": null,
   "metadata": {},
   "outputs": [],
   "source": [
    "baselines_cs = {lbl: read_cv_data('baseline_coldstart', lbl) for lbl in data_labels}"
   ]
  },
  {
   "cell_type": "code",
   "execution_count": null,
   "metadata": {},
   "outputs": [],
   "source": [
    "scaledsvd_cs = {lbl: read_cv_data('scaledsvd_coldstart', lbl) for lbl in data_labels}"
   ]
  },
  {
   "cell_type": "code",
   "execution_count": null,
   "metadata": {},
   "outputs": [],
   "source": [
    "fm_cs = {lbl: read_cv_data('fm_coldstart', lbl) for lbl in data_labels if lbl!='YaMus'}  # were unable to get anything meaningful for Yahoo data"
   ]
  },
  {
   "cell_type": "code",
   "execution_count": null,
   "metadata": {},
   "outputs": [],
   "source": [
    "lce_cs = {lbl: read_cv_data('lce_coldstart', lbl) for lbl in data_labels}"
   ]
  },
  {
   "cell_type": "code",
   "execution_count": null,
   "metadata": {},
   "outputs": [],
   "source": [
    "hybridsvd_cs = {lbl: read_cv_data('hybridsvd_coldstart', lbl) for lbl in data_labels}"
   ]
  },
  {
   "cell_type": "code",
   "execution_count": null,
   "metadata": {},
   "outputs": [],
   "source": [
    "scaledhybridsvd_cs = {lbl: read_cv_data('scaledhybridsvd_coldstart', lbl) for lbl in data_labels}"
   ]
  },
  {
   "cell_type": "code",
   "execution_count": null,
   "metadata": {},
   "outputs": [],
   "source": [
    "all_coldstart = [baselines_cs, scaledsvd_cs, fm_cs, lce_cs, hybridsvd_cs, scaledhybridsvd_cs]"
   ]
  },
  {
   "cell_type": "markdown",
   "metadata": {},
   "source": [
    "# Postprocess"
   ]
  },
  {
   "cell_type": "code",
   "execution_count": null,
   "metadata": {},
   "outputs": [],
   "source": [
    "def postprocess(data):\n",
    "    for models in data:\n",
    "        for label, res in models.items():\n",
    "            # filter out n=20 from top-n results for brevity\n",
    "            res.drop(20, level='top-n', axis=0, inplace=True)"
   ]
  },
  {
   "cell_type": "code",
   "execution_count": null,
   "metadata": {},
   "outputs": [],
   "source": [
    "postprocess(all_standard + all_coldstart)"
   ]
  },
  {
   "cell_type": "markdown",
   "metadata": {},
   "source": [
    "# Vizualization settings"
   ]
  },
  {
   "cell_type": "code",
   "execution_count": null,
   "metadata": {},
   "outputs": [],
   "source": [
    "def get_properties(main_methods, compare_methods, baselines):\n",
    "    prop_cycle = plt.rcParams['axes.prop_cycle']\n",
    "    assert len(main_methods) + len(compare_methods) + len(baselines) <= len(prop_cycle)\n",
    "    types = ['main', 'compare', 'baseline']\n",
    "    lines = dict(zip(types, ['-', '-.', ':']))\n",
    "    \n",
    "    method_viz_properties = {}\n",
    "    properties = iter(prop_cycle)\n",
    "    \n",
    "    for methods, typ in zip([main_methods, compare_methods, baselines], types):\n",
    "        for method in methods:\n",
    "            method_viz_properties[method] = next(properties)\n",
    "            method_viz_properties[method]['linestyle'] = lines[typ]\n",
    "    return method_viz_properties"
   ]
  },
  {
   "cell_type": "code",
   "execution_count": null,
   "metadata": {},
   "outputs": [],
   "source": [
    "main_methods = [r'HybridSVD', r'HybridSVDs']\n",
    "compare_methods = [ u'PureSVD', u'FM', u'PureSVDs', 'LCE']\n",
    "base_methods = [u'RND', u'MP', u'SIM', u'SGD']"
   ]
  },
  {
   "cell_type": "code",
   "execution_count": null,
   "metadata": {},
   "outputs": [],
   "source": [
    "line_styles = get_properties(main_methods, compare_methods, base_methods)"
   ]
  },
  {
   "cell_type": "code",
   "execution_count": null,
   "metadata": {},
   "outputs": [],
   "source": [
    "alpha = 0.1\n",
    "bars_width = 0.95\n",
    "\n",
    "def plot_rank_results(methods, baselines=None, metric='HR', ax=None, xlim=None, ylim=None, logx=False, err_alpha=None, styles={}):\n",
    "    draw_legend = ax is None\n",
    "    \n",
    "    if isinstance(methods, pd.DataFrame):\n",
    "        methods = [methods]\n",
    "        \n",
    "    for data in methods:\n",
    "        data_sample = data.xs(metric, level=1, axis=1)\n",
    "        data_mean = data_sample.mean(level=1, axis=0)\n",
    "        data_yerr = sample_ci(data_sample, level=1)\n",
    "        for label, result in data_mean.iteritems():\n",
    "            props = styles.get(label, {})\n",
    "            ax = result.plot(label=label, ax=ax, xlim=xlim, ylim=ylim, logx=logx, **props)\n",
    "            if err_alpha: # plot CI region\n",
    "                x = result.index\n",
    "                y = result\n",
    "                err = data_yerr.loc[x, label]\n",
    "                ax.fill_between(x, y-err, y+err, alpha=err_alpha)\n",
    "            \n",
    "    \n",
    "    if baselines is not None:\n",
    "        baseline_sample = baselines.xs(metric, level=1, axis=1)\n",
    "        baseline_mean = baseline_sample.mean(axis=0)\n",
    "        baseline_yerr = sample_ci(baseline_sample)\n",
    "        for label, result in baseline_mean.iteritems():\n",
    "            props = styles.get(label, {})\n",
    "            ax.axhline(y=result, label=label, **props)\n",
    "            if err_alpha: # plot CI region\n",
    "                err = baseline_yerr[label]\n",
    "                ax.axhspan(result-err, result+err, alpha=err_alpha, **props)\n",
    "    \n",
    "    if draw_legend:\n",
    "        ax.legend(bbox_to_anchor=(1.05, 1), loc=2,)\n",
    "    return ax\n",
    "\n",
    "    \n",
    "def plot_topn_results(methods, metric='HR', ax=None, error_bars=True, styles=None, **kwds):\n",
    "    draw_legend = ax is None\n",
    "    styles = styles or line_styles\n",
    "    \n",
    "    if not isinstance(methods, (list, tuple)):\n",
    "        methods = [methods]\n",
    "    \n",
    "    scores = []\n",
    "    errors = []\n",
    "    for data in methods:\n",
    "        data_sample = (data.xs(metric.lower(), level='metric', axis='columns')\n",
    "                       .squeeze().unstack('model')\n",
    "                       .rename(columns=lambda x: x.split('(cs)')[0]))\n",
    "        data_mean = data_sample.mean(level='top-n', axis='index')\n",
    "        scores.append(data_mean)\n",
    "        \n",
    "        if error_bars: # plot CI region\n",
    "            data_yerr = sample_ci(data_sample, level='top-n')\n",
    "            errors.append(data_yerr)\n",
    "        else:\n",
    "            data_yerr = None\n",
    "        \n",
    "    all_scores = pd.concat(scores, axis=1)\n",
    "    all_scores = all_scores.sort_values(10, axis=1) # sort based on top-10 result\n",
    "    all_errors = pd.concat(errors, axis=1) if errors else None\n",
    "    colors = [styles[col]['color'] for col in all_scores.columns]\n",
    "    \n",
    "    ax = all_scores.plot.bar(ax=ax, yerr=all_errors, color=colors, legend=draw_legend, rot=0, width=bars_width, **kwds)\n",
    "    if draw_legend:\n",
    "        ax.legend(bbox_to_anchor=(1.05, 1), loc=2)\n",
    "    return ax"
   ]
  },
  {
   "cell_type": "markdown",
   "metadata": {},
   "source": [
    "# \"Bird eye\" view"
   ]
  },
  {
   "cell_type": "code",
   "execution_count": null,
   "metadata": {},
   "outputs": [],
   "source": [
    "metrics = ['MRR', 'HR', 'COVERAGE']\n",
    "fig, ax = plt.subplots(2*len(data_labels), len(metrics), figsize=(16, 40))\n",
    "\n",
    "for i, lbl in enumerate(data_labels):\n",
    "    for j, metric in enumerate(metrics):\n",
    "        plot_topn_results([model[lbl] for model in all_standard if lbl in model],\n",
    "                          metric, title=f'{metric}', ax=ax[i, j])\n",
    "        plot_topn_results([model[lbl] for model in all_coldstart if lbl in model],\n",
    "                          metric, title=f'{metric} (cold start)', ax=ax[i+6, j])\n",
    "\n",
    "for i, lbl in enumerate(data_labels):\n",
    "    ax[i, 0].set_ylabel(lbl)\n",
    "    ax[i+6, 0].set_ylabel(lbl)\n",
    "        \n",
    "plt.tight_layout()\n",
    "ax[0, 0].legend(bbox_to_anchor=(3.41, 1.35), loc='upper right', ncol=10)\n",
    "# plt.savefig(\"all_experiments.pdf\", bbox_inches='tight')"
   ]
  },
  {
   "cell_type": "markdown",
   "metadata": {},
   "source": [
    "# Paper figures"
   ]
  },
  {
   "cell_type": "code",
   "execution_count": null,
   "metadata": {},
   "outputs": [],
   "source": [
    "metrics = ['MRR', 'HR', 'COVERAGE']\n",
    "data_labels_std = ['ML10M', 'AMZe']\n",
    "fig, ax = plt.subplots(len(data_labels_std), len(metrics), figsize=(16, 6))\n",
    "\n",
    "for i, lbl in enumerate(data_labels_std):\n",
    "    for j, metric in enumerate(metrics):\n",
    "        plot_topn_results([model[lbl] for model in all_standard if lbl in model],\n",
    "                          metric, title=f'{metric}', ax=ax[i, j])\n",
    "\n",
    "for i, lbl in enumerate(data_labels_std):\n",
    "    ax[i, 0].set_ylabel(lbl)\n",
    "        \n",
    "plt.tight_layout()\n",
    "ax[0, 0].legend(bbox_to_anchor=(3.41, 1.4), loc='upper right', ncol=10)\n",
    "# plt.savefig(\"std_ML10_AMZe.pdf\", bbox_inches='tight')"
   ]
  },
  {
   "cell_type": "code",
   "execution_count": null,
   "metadata": {},
   "outputs": [],
   "source": [
    "metrics = ['MRR', 'HR', 'COVERAGE']\n",
    "data_labels_cls = ['BX', 'YaMus']\n",
    "fig, ax = plt.subplots(len(data_labels_cls), len(metrics), figsize=(16, 6))\n",
    "\n",
    "for i, lbl in enumerate(data_labels_cls):\n",
    "    for j, metric in enumerate(metrics):\n",
    "        plot_topn_results([model[lbl] for model in all_coldstart if lbl in model],\n",
    "                          metric, title=f'{metric} (cold start)', ax=ax[i, j])\n",
    "\n",
    "for i, lbl in enumerate(data_labels_cls):\n",
    "    ax[i, 0].set_ylabel(lbl)\n",
    "        \n",
    "plt.tight_layout()\n",
    "ax[0, 0].legend(bbox_to_anchor=(3.3, 1.4), loc='upper right', ncol=10)\n",
    "# plt.savefig(\"cls_BX_YM.pdf\", bbox_inches='tight')"
   ]
  },
  {
   "cell_type": "markdown",
   "metadata": {},
   "source": [
    "# Standard scenario"
   ]
  },
  {
   "cell_type": "markdown",
   "metadata": {
    "heading_collapsed": true
   },
   "source": [
    "## Movielens-1M"
   ]
  },
  {
   "cell_type": "code",
   "execution_count": 29,
   "metadata": {},
   "outputs": [],
   "source": [
    "lbl = 'ML1M'"
   ]
  },
  {
   "cell_type": "code",
   "execution_count": 30,
   "metadata": {},
   "outputs": [],
   "source": [
    "models = [model[lbl] for model in all_standard]"
   ]
  },
  {
   "cell_type": "code",
   "execution_count": null,
   "metadata": {},
   "outputs": [],
   "source": [
    "target_metric = 'MRR'\n",
    "plot_topn_results(models, target_metric, title=f'{lbl}-{target_metric}')"
   ]
  },
  {
   "cell_type": "code",
   "execution_count": null,
   "metadata": {},
   "outputs": [],
   "source": [
    "target_metric = 'HR'\n",
    "plot_topn_results(models, target_metric, title=f'{lbl}-{target_metric}')"
   ]
  },
  {
   "cell_type": "code",
   "execution_count": null,
   "metadata": {},
   "outputs": [],
   "source": [
    "target_metric = 'COVERAGE'\n",
    "plot_topn_results(models, target_metric, title=f'{lbl}-{target_metric}')"
   ]
  },
  {
   "cell_type": "markdown",
   "metadata": {
    "heading_collapsed": true
   },
   "source": [
    "## Movielens-10M"
   ]
  },
  {
   "cell_type": "code",
   "execution_count": null,
   "metadata": {},
   "outputs": [],
   "source": [
    "lbl = 'ML10M'"
   ]
  },
  {
   "cell_type": "code",
   "execution_count": null,
   "metadata": {},
   "outputs": [],
   "source": [
    "models = [model[lbl] for model in all_standard]"
   ]
  },
  {
   "cell_type": "code",
   "execution_count": null,
   "metadata": {},
   "outputs": [],
   "source": [
    "target_metric = 'MRR'\n",
    "plot_topn_results(models, target_metric, title=f'{lbl}-{target_metric}')"
   ]
  },
  {
   "cell_type": "code",
   "execution_count": null,
   "metadata": {},
   "outputs": [],
   "source": [
    "target_metric = 'HR'\n",
    "plot_topn_results(models, target_metric)"
   ]
  },
  {
   "cell_type": "code",
   "execution_count": null,
   "metadata": {},
   "outputs": [],
   "source": [
    "target_metric = 'COVERAGE'\n",
    "plot_topn_results(models, target_metric, title=f'{lbl}-{target_metric}')"
   ]
  },
  {
   "cell_type": "markdown",
   "metadata": {
    "heading_collapsed": true
   },
   "source": [
    "## BookCrossing"
   ]
  },
  {
   "cell_type": "code",
   "execution_count": null,
   "metadata": {},
   "outputs": [],
   "source": [
    "lbl = 'BX'"
   ]
  },
  {
   "cell_type": "code",
   "execution_count": null,
   "metadata": {},
   "outputs": [],
   "source": [
    "models = [model[lbl] for model in all_standard]"
   ]
  },
  {
   "cell_type": "code",
   "execution_count": null,
   "metadata": {},
   "outputs": [],
   "source": [
    "target_metric = 'MRR'\n",
    "plot_topn_results(models, target_metric, title=f'{lbl}-{target_metric}')"
   ]
  },
  {
   "cell_type": "code",
   "execution_count": null,
   "metadata": {},
   "outputs": [],
   "source": [
    "target_metric = 'HR'\n",
    "plot_topn_results(models, target_metric, title=f'{lbl}-{target_metric}')"
   ]
  },
  {
   "cell_type": "code",
   "execution_count": null,
   "metadata": {},
   "outputs": [],
   "source": [
    "target_metric = 'COVERAGE'\n",
    "plot_topn_results(models, target_metric, title=f'{lbl}-{target_metric}')"
   ]
  },
  {
   "cell_type": "markdown",
   "metadata": {},
   "source": [
    "## Amazon Electronics"
   ]
  },
  {
   "cell_type": "code",
   "execution_count": null,
   "metadata": {},
   "outputs": [],
   "source": [
    "lbl = 'AMZe'"
   ]
  },
  {
   "cell_type": "code",
   "execution_count": null,
   "metadata": {},
   "outputs": [],
   "source": [
    "models = [model[lbl] for model in all_standard]"
   ]
  },
  {
   "cell_type": "code",
   "execution_count": null,
   "metadata": {},
   "outputs": [],
   "source": [
    "target_metric = 'MRR'\n",
    "plot_topn_results(models, target_metric, title=f'{lbl}-{target_metric}')"
   ]
  },
  {
   "cell_type": "code",
   "execution_count": null,
   "metadata": {},
   "outputs": [],
   "source": [
    "target_metric = 'HR'\n",
    "plot_topn_results(models, target_metric, title=f'{lbl}-{target_metric}')"
   ]
  },
  {
   "cell_type": "code",
   "execution_count": null,
   "metadata": {},
   "outputs": [],
   "source": [
    "target_metric = 'COVERAGE'\n",
    "plot_topn_results(models, target_metric, title=f'{lbl}-{target_metric}')"
   ]
  },
  {
   "cell_type": "markdown",
   "metadata": {},
   "source": [
    "## Amazon Video Games"
   ]
  },
  {
   "cell_type": "code",
   "execution_count": null,
   "metadata": {},
   "outputs": [],
   "source": [
    "lbl = 'AMZvg'"
   ]
  },
  {
   "cell_type": "code",
   "execution_count": null,
   "metadata": {},
   "outputs": [],
   "source": [
    "models = [model[lbl] for model in all_standard]"
   ]
  },
  {
   "cell_type": "code",
   "execution_count": null,
   "metadata": {},
   "outputs": [],
   "source": [
    "target_metric = 'MRR'\n",
    "plot_topn_results(models, target_metric, title=f'{lbl}-{target_metric}')"
   ]
  },
  {
   "cell_type": "code",
   "execution_count": null,
   "metadata": {},
   "outputs": [],
   "source": [
    "target_metric = 'HR'\n",
    "plot_topn_results(models, target_metric, title=f'{lbl}-{target_metric}')"
   ]
  },
  {
   "cell_type": "code",
   "execution_count": null,
   "metadata": {},
   "outputs": [],
   "source": [
    "target_metric = 'COVERAGE'\n",
    "plot_topn_results(models, target_metric, title=f'{lbl}-{target_metric}')"
   ]
  },
  {
   "cell_type": "markdown",
   "metadata": {},
   "source": [
    "## Yahoo Music"
   ]
  },
  {
   "cell_type": "code",
   "execution_count": null,
   "metadata": {},
   "outputs": [],
   "source": [
    "lbl = 'YaMus'"
   ]
  },
  {
   "cell_type": "raw",
   "metadata": {},
   "source": [
    "models = [model[lbl] for model in all_standard]"
   ]
  },
  {
   "cell_type": "code",
   "execution_count": null,
   "metadata": {},
   "outputs": [],
   "source": [
    "target_metric = 'MRR'\n",
    "plot_topn_results(models, target_metric, title=f'{lbl}-{target_metric}')"
   ]
  },
  {
   "cell_type": "code",
   "execution_count": null,
   "metadata": {},
   "outputs": [],
   "source": [
    "target_metric = 'HR'\n",
    "plot_topn_results(models, target_metric, title=f'{lbl}-{target_metric}')"
   ]
  },
  {
   "cell_type": "code",
   "execution_count": null,
   "metadata": {},
   "outputs": [],
   "source": [
    "target_metric = 'COVERAGE'\n",
    "plot_topn_results(models, target_metric, title=f'{lbl}-{target_metric}')"
   ]
  },
  {
   "cell_type": "markdown",
   "metadata": {},
   "source": [
    "---"
   ]
  },
  {
   "cell_type": "markdown",
   "metadata": {},
   "source": [
    "---"
   ]
  },
  {
   "cell_type": "markdown",
   "metadata": {},
   "source": [
    "# Cold-start scenario"
   ]
  },
  {
   "cell_type": "markdown",
   "metadata": {},
   "source": [
    "## Movielens-1M"
   ]
  },
  {
   "cell_type": "code",
   "execution_count": null,
   "metadata": {},
   "outputs": [],
   "source": [
    "lbl = 'ML1M'"
   ]
  },
  {
   "cell_type": "code",
   "execution_count": null,
   "metadata": {},
   "outputs": [],
   "source": [
    "models = [model[lbl] for model in all_coldstart]"
   ]
  },
  {
   "cell_type": "code",
   "execution_count": null,
   "metadata": {},
   "outputs": [],
   "source": [
    "target_metric = 'MRR'\n",
    "plot_topn_results(models, target_metric, title=f'{lbl}-{target_metric}(cs)')"
   ]
  },
  {
   "cell_type": "code",
   "execution_count": null,
   "metadata": {},
   "outputs": [],
   "source": [
    "target_metric = 'HR'\n",
    "plot_topn_results(models, target_metric, title=f'{lbl}-{target_metric}(cs)')"
   ]
  },
  {
   "cell_type": "code",
   "execution_count": null,
   "metadata": {},
   "outputs": [],
   "source": [
    "target_metric = 'COVERAGE'\n",
    "plot_topn_results(models, target_metric, title=f'{lbl}-{target_metric}(cs)')"
   ]
  },
  {
   "cell_type": "markdown",
   "metadata": {},
   "source": [
    "## Movielens-10M"
   ]
  },
  {
   "cell_type": "code",
   "execution_count": null,
   "metadata": {},
   "outputs": [],
   "source": [
    "lbl = 'ML10M'"
   ]
  },
  {
   "cell_type": "code",
   "execution_count": null,
   "metadata": {},
   "outputs": [],
   "source": [
    "models = [model[lbl] for model in all_coldstart]"
   ]
  },
  {
   "cell_type": "code",
   "execution_count": null,
   "metadata": {},
   "outputs": [],
   "source": [
    "target_metric = 'MRR'\n",
    "plot_topn_results(models, target_metric, title=f'{lbl}-{target_metric}(cs)')"
   ]
  },
  {
   "cell_type": "code",
   "execution_count": null,
   "metadata": {},
   "outputs": [],
   "source": [
    "target_metric = 'HR'\n",
    "plot_topn_results(models, target_metric, title=f'{lbl}-{target_metric}(cs)')"
   ]
  },
  {
   "cell_type": "code",
   "execution_count": null,
   "metadata": {},
   "outputs": [],
   "source": [
    "target_metric = 'COVERAGE'\n",
    "plot_topn_results(models, target_metric, title=f'{lbl}-{target_metric}(cs)')"
   ]
  },
  {
   "cell_type": "markdown",
   "metadata": {},
   "source": [
    "## BookCrossing"
   ]
  },
  {
   "cell_type": "code",
   "execution_count": null,
   "metadata": {},
   "outputs": [],
   "source": [
    "lbl = 'BX'"
   ]
  },
  {
   "cell_type": "code",
   "execution_count": null,
   "metadata": {},
   "outputs": [],
   "source": [
    "models = [model[lbl] for model in all_coldstart]"
   ]
  },
  {
   "cell_type": "code",
   "execution_count": null,
   "metadata": {},
   "outputs": [],
   "source": [
    "target_metric = 'MRR'\n",
    "plot_topn_results(models, target_metric, title=f'{lbl}-{target_metric}(cs)')"
   ]
  },
  {
   "cell_type": "code",
   "execution_count": null,
   "metadata": {},
   "outputs": [],
   "source": [
    "target_metric = 'HR'\n",
    "plot_topn_results(models, target_metric, title=f'{lbl}-{target_metric}(cs)')"
   ]
  },
  {
   "cell_type": "code",
   "execution_count": null,
   "metadata": {},
   "outputs": [],
   "source": [
    "target_metric = 'COVERAGE'\n",
    "plot_topn_results(models, target_metric, title=f'{lbl}-{target_metric}(cs)')"
   ]
  },
  {
   "cell_type": "markdown",
   "metadata": {},
   "source": [
    "## Amazon Electronics"
   ]
  },
  {
   "cell_type": "code",
   "execution_count": null,
   "metadata": {},
   "outputs": [],
   "source": [
    "lbl = 'AMZe'"
   ]
  },
  {
   "cell_type": "code",
   "execution_count": null,
   "metadata": {},
   "outputs": [],
   "source": [
    "models = [model[lbl] for model in all_coldstart if lbl in model]"
   ]
  },
  {
   "cell_type": "code",
   "execution_count": null,
   "metadata": {},
   "outputs": [],
   "source": [
    "target_metric = 'MRR'\n",
    "plot_topn_results(models, target_metric, title=f'{lbl}-{target_metric}(cs)')"
   ]
  },
  {
   "cell_type": "code",
   "execution_count": null,
   "metadata": {},
   "outputs": [],
   "source": [
    "target_metric = 'HR'\n",
    "plot_topn_results(models, target_metric, title=f'{lbl}-{target_metric}(cs)')"
   ]
  },
  {
   "cell_type": "code",
   "execution_count": null,
   "metadata": {},
   "outputs": [],
   "source": [
    "target_metric = 'COVERAGE'\n",
    "plot_topn_results(models, target_metric, title=f'{lbl}-{target_metric}(cs)')"
   ]
  },
  {
   "cell_type": "markdown",
   "metadata": {},
   "source": [
    "## Amazon Video Games"
   ]
  },
  {
   "cell_type": "code",
   "execution_count": null,
   "metadata": {},
   "outputs": [],
   "source": [
    "lbl = 'AMZvg'"
   ]
  },
  {
   "cell_type": "code",
   "execution_count": null,
   "metadata": {},
   "outputs": [],
   "source": [
    "models = [model[lbl] for model in all_coldstart if lbl in model]"
   ]
  },
  {
   "cell_type": "code",
   "execution_count": null,
   "metadata": {},
   "outputs": [],
   "source": [
    "target_metric = 'MRR'\n",
    "plot_topn_results(models, target_metric, title=f'{lbl}-{target_metric}(cs)')"
   ]
  },
  {
   "cell_type": "code",
   "execution_count": null,
   "metadata": {},
   "outputs": [],
   "source": [
    "target_metric = 'HR'\n",
    "plot_topn_results(models, target_metric, title=f'{lbl}-{target_metric}(cs)')"
   ]
  },
  {
   "cell_type": "code",
   "execution_count": null,
   "metadata": {},
   "outputs": [],
   "source": [
    "target_metric = 'COVERAGE'\n",
    "plot_topn_results(models, target_metric, title=f'{lbl}-{target_metric}(cs)')"
   ]
  },
  {
   "cell_type": "markdown",
   "metadata": {},
   "source": [
    "## Yahoo Music"
   ]
  },
  {
   "cell_type": "code",
   "execution_count": null,
   "metadata": {},
   "outputs": [],
   "source": [
    "lbl = 'YaMus'"
   ]
  },
  {
   "cell_type": "code",
   "execution_count": null,
   "metadata": {},
   "outputs": [],
   "source": [
    "models = [model[lbl] for model in all_coldstart if lbl in model]"
   ]
  },
  {
   "cell_type": "code",
   "execution_count": null,
   "metadata": {},
   "outputs": [],
   "source": [
    "target_metric = 'MRR'\n",
    "plot_topn_results(models, target_metric, title=f'{lbl}-{target_metric}(cs)')"
   ]
  },
  {
   "cell_type": "code",
   "execution_count": null,
   "metadata": {},
   "outputs": [],
   "source": [
    "target_metric = 'HR'\n",
    "plot_topn_results(models, target_metric, title=f'{lbl}-{target_metric}(cs)')"
   ]
  },
  {
   "cell_type": "code",
   "execution_count": null,
   "metadata": {},
   "outputs": [],
   "source": [
    "target_metric = 'COVERAGE'\n",
    "plot_topn_results(models, target_metric, title=f'{lbl}-{target_metric}(cs)')"
   ]
  },
  {
   "cell_type": "markdown",
   "metadata": {},
   "source": [
    "# Combined"
   ]
  },
  {
   "cell_type": "markdown",
   "metadata": {},
   "source": [
    "## standard"
   ]
  },
  {
   "cell_type": "code",
   "execution_count": null,
   "metadata": {},
   "outputs": [],
   "source": [
    "fig, ax = plt.subplots(1, 2, figsize=(15, 4))\n",
    "\n",
    "ax_std_mrr_ml = plot_rank_results([std_svd_ml, std_fm_ml], std_base_ml, ax=ax[0], metric='MRR', xlim=(0, 300), styles=line_styles)\n",
    "ax_std_mrr_bx = plot_rank_results([std_svd_bx, std_fm_bx], std_base_bx, ax=ax[1], metric='MRR', xlim=(0, 3000), ylim=(-0.0009, 0.0175), styles=line_styles)\n",
    "\n",
    "ax_std_mrr_ml.set_title('Movielens')\n",
    "ax_std_mrr_bx.set_title('BookCrossing')\n",
    "ax_std_mrr_ml.set_ylabel('MRR')\n",
    "\n",
    "\n",
    "ax_std_mrr_bx.legend(loc=1, bbox_to_anchor=(1.6, 0.95))\n",
    "\n",
    "# plt.tight_layout()\n",
    "# plt.savefig(\"std_rank_mrr.pdf\", bbox_inches='tight')"
   ]
  },
  {
   "cell_type": "code",
   "execution_count": null,
   "metadata": {},
   "outputs": [],
   "source": [
    "fig, ax = plt.subplots(1, 2, figsize=(15, 3.5))\n",
    "\n",
    "ax_std_topn_mrr_ml = plot_topn_results(std_topn_ml.drop(r'HybridSVD ($\\alpha=0.5$)', axis=1, level=0), metric='MRR', ax=ax[0], styles=line_styles, width=0.85, rot=0)\n",
    "ax_std_topn_mrr_bx = plot_topn_results(std_topn_bx, metric='MRR', ax=ax[1], styles=line_styles, width=0.85, rot=0)\n",
    "\n",
    "ax_std_topn_mrr_ml.set_title('Movielens')\n",
    "ax_std_topn_mrr_ml.set_ylabel('MRR')\n",
    "ax_std_topn_mrr_bx.set_title('BookCrossing')\n",
    "\n",
    "axh1, axl1 = ax_std_topn_mrr_ml.get_legend_handles_labels()\n",
    "axh2, axl2 = ax_std_topn_mrr_bx.get_legend_handles_labels()\n",
    "axl = r'HybridSVD ($\\alpha=0.5$)'\n",
    "axh = axh2[axl2.index(axl)]\n",
    "\n",
    "plt.legend(handles=axh1+[axh], labels=axl1+[axl], loc=1, bbox_to_anchor=(1.6, 0.95))\n",
    "# plt.savefig(\"std_topn_mrr.pdf\", bbox_inches='tight')"
   ]
  },
  {
   "cell_type": "code",
   "execution_count": null,
   "metadata": {},
   "outputs": [],
   "source": []
  },
  {
   "cell_type": "code",
   "execution_count": null,
   "metadata": {},
   "outputs": [],
   "source": [
    "fig, (ax1, ax2) = plt.subplots(2, 2, figsize=(17, 8))\n",
    "\n",
    "ax_std_mrr_ml = plot_rank_results([std_svd_ml, std_fm_ml], std_base_ml, ax=ax1[0], metric='MRR', xlim=(1, 1000), logx=True, ylim=(None, 0.115), styles=line_styles)\n",
    "ax_std_mrr_bx = plot_rank_results([std_svd_bx, std_fm_bx], std_base_bx, ax=ax1[1], metric='MRR', xlim=(1, 3000), logx=True, ylim=(-0.0009, 0.0185), styles=line_styles)\n",
    "\n",
    "ax_std_mrr_ml.set_title('Movielens')\n",
    "ax_std_mrr_bx.set_title('BookCrossing')\n",
    "ax_std_mrr_ml.set_ylabel('MRR@10')\n",
    "\n",
    "\n",
    "ax_std_mrr_bx.legend(loc=2, bbox_to_anchor=(-0.85, 0.98))\n",
    "\n",
    "\n",
    "ax_std_topn_mrr_ml = plot_topn_results(std_topn_ml.drop(r'HybridSVD ($\\alpha=0.5$)', axis=1, level=0), metric='MRR', ax=ax2[0], styles=line_styles, width=0.85, rot=0, ylim=(0, None))\n",
    "ax_std_topn_mrr_bx = plot_topn_results(std_topn_bx, metric='MRR', ax=ax2[1], styles=line_styles, ylim=(0, None), width=0.85, rot=0)\n",
    "\n",
    "ax_std_topn_mrr_ml.set_ylabel('MRR@$n$')\n",
    "ax_std_topn_mrr_ml.set_xlabel('top-$n$')\n",
    "ax_std_topn_mrr_bx.set_xlabel('top-$n$')\n",
    "\n",
    "axh1, axl1 = ax_std_topn_mrr_ml.get_legend_handles_labels()\n",
    "axh2, axl2 = ax_std_topn_mrr_bx.get_legend_handles_labels()\n",
    "axl = r'HybridSVD ($\\alpha=0.5$)'\n",
    "axh = axh2[axl2.index(axl)]\n",
    "\n",
    "plt.legend(handles=reversed(axh1+[axh]), labels=reversed(axl1+[axl]), loc=2, bbox_to_anchor=(-0.85, 0.93))\n",
    "fig.subplots_adjust(wspace=0.9, hspace=0.28)\n",
    "\n",
    "# plt.savefig(\"std_mrr.pdf\", bbox_inches='tight')"
   ]
  },
  {
   "cell_type": "markdown",
   "metadata": {},
   "source": [
    "## cold-start"
   ]
  },
  {
   "cell_type": "code",
   "execution_count": null,
   "metadata": {},
   "outputs": [],
   "source": [
    "fig, ax = plt.subplots(1, 2, figsize=(15, 4))\n",
    "\n",
    "ax_cls_mrr_ml = plot_rank_results([cls_svd_ml, cls_fm_ml], cls_base_ml, metric='MRR', ax=ax[0], xlim=(1, 1000), logx=True, styles=line_styles)\n",
    "ax_cls_mrr_bx = plot_rank_results([cls_svd_bx, cls_fm_bx], cls_base_bx, metric='MRR', ax=ax[1], xlim=(1, 3000), logx=True, styles=line_styles)\n",
    "\n",
    "ax_cls_mrr_ml.set_title('Movielens')\n",
    "ax_cls_mrr_bx.set_title('BookCrossing')\n",
    "ax_cls_mrr_ml.set_ylabel('MRR')\n",
    "\n",
    "\n",
    "ax_cls_mrr_bx.legend(loc=1, bbox_to_anchor=(1.6, 0.95))\n",
    "# plt.tight_layout()\n",
    "# plt.savefig(\"cls_rank_mrr.pdf\", bbox_inches='tight')"
   ]
  },
  {
   "cell_type": "code",
   "execution_count": null,
   "metadata": {},
   "outputs": [],
   "source": [
    "fig, ax = plt.subplots(1, 2, figsize=(15, 3.5))\n",
    "\n",
    "ax_cls_topn_mrr_ml = plot_topn_results(cls_topn_ml.drop(r'HybridSVD ($\\alpha=0.5$)', axis=1, level=0), metric='MRR', ax=ax[0], styles=line_styles, width=0.85, rot=0)\n",
    "ax_cls_topn_mrr_bx = plot_topn_results(cls_topn_bx.drop(r'HybridSVD ($\\alpha=0.5$)', axis=1, level=0), metric='MRR', ax=ax[1], styles=line_styles, width=0.85, rot=0)\n",
    "\n",
    "ax_cls_topn_mrr_ml.set_title('Movielens')\n",
    "ax_cls_topn_mrr_ml.set_ylabel('MRR')\n",
    "ax_cls_topn_mrr_bx.set_title('BookCrossing')\n",
    "\n",
    "ax_cls_topn_mrr_bx.legend(bbox_to_anchor=(1.6, 0.95))\n",
    "# plt.savefig(\"cls_topn_mrr.pdf\", bbox_inches='tight')"
   ]
  },
  {
   "cell_type": "code",
   "execution_count": null,
   "metadata": {},
   "outputs": [],
   "source": [
    "fig, (ax1, ax2) = plt.subplots(2, 2, figsize=(17, 8))\n",
    "\n",
    "\n",
    "ax_cls_mrr_ml = plot_rank_results([cls_svd_ml, cls_fm_ml], cls_base_ml, metric='MRR', ax=ax1[0], xlim=(1, 1000), ylim=(-0.001, 0.033), logx=True, styles=line_styles)\n",
    "ax_cls_mrr_bx = plot_rank_results([cls_svd_bx, cls_fm_bx], cls_base_bx, metric='MRR', ax=ax1[1], xlim=(1, 3200), ylim=(-0.001, 0.047), logx=True, styles=line_styles)\n",
    "\n",
    "ax_cls_mrr_ml.set_title('Movielens')\n",
    "ax_cls_mrr_bx.set_title('BookCrossing')\n",
    "ax_cls_mrr_ml.set_ylabel('MRR@10')\n",
    "\n",
    "ax_cls_mrr_bx.legend(loc=2, bbox_to_anchor=(-0.85, 0.98))\n",
    "\n",
    "ax_cls_topn_mrr_ml = plot_topn_results(cls_topn_ml.drop(r'HybridSVD ($\\alpha=0.5$)', axis=1, level=0), metric='MRR', ax=ax2[0], styles=line_styles, ylim=(0, None), width=0.85, rot=0)\n",
    "ax_cls_topn_mrr_bx = plot_topn_results(cls_topn_bx.drop(r'HybridSVD ($\\alpha=0.5$)', axis=1, level=0), metric='MRR', ax=ax2[1], styles=line_styles, width=0.85, rot=0, ylim=(-0.0001, None))\n",
    "\n",
    "ax_cls_topn_mrr_ml.set_ylabel('MRR@$n$')\n",
    "ax_cls_topn_mrr_ml.set_xlabel('top-$n$')\n",
    "ax_cls_topn_mrr_bx.set_xlabel('top-$n$')\n",
    "\n",
    "handles, labels = ax_cls_topn_mrr_bx.get_legend_handles_labels()\n",
    "ax_cls_topn_mrr_bx.legend(reversed(handles), reversed(labels), loc=2, bbox_to_anchor=(-0.85, 0.85))\n",
    "\n",
    "fig.subplots_adjust(wspace=0.9, hspace=0.28)\n",
    "\n",
    "plt.savefig(\"cls_mrr.pdf\", bbox_inches='tight')"
   ]
  },
  {
   "cell_type": "code",
   "execution_count": null,
   "metadata": {},
   "outputs": [],
   "source": []
  }
 ],
 "metadata": {
  "kernelspec": {
   "display_name": "Python 3",
   "language": "python",
   "name": "python3"
  },
  "language_info": {
   "codemirror_mode": {
    "name": "ipython",
    "version": 3
   },
   "file_extension": ".py",
   "mimetype": "text/x-python",
   "name": "python",
   "nbconvert_exporter": "python",
   "pygments_lexer": "ipython3",
   "version": "3.6.4"
  },
  "toc": {
   "nav_menu": {},
   "number_sections": true,
   "sideBar": true,
   "skip_h1_title": false,
   "title_cell": "Table of Contents",
   "title_sidebar": "Contents",
   "toc_cell": true,
   "toc_position": {},
   "toc_section_display": true,
   "toc_window_display": true
  }
 },
 "nbformat": 4,
 "nbformat_minor": 2
}
